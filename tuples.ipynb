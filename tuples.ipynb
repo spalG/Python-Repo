{
 "cells": [
  {
   "cell_type": "markdown",
   "metadata": {},
   "source": [
    "# Tuples\n",
    "\n",
    "1. Introduction on Tuples\n",
    "2. Creating Tuples\n",
    "3. Accessing Tuple Elements\n",
    "4. Tuple Operations\n",
    "5. Immutable Nature of Tuples\n",
    "6. Tuples Methods\n",
    "7. Packing and Unpacking Tuples\n",
    "8. Nested Tuples\n",
    "9. Practical Examples and Common Errors"
   ]
  },
  {
   "cell_type": "code",
   "execution_count": null,
   "metadata": {},
   "outputs": [],
   "source": [
    "## Introduction To Tuples\n",
    "\n",
    "#### Tuples are ordered collections of items that are immutable. They are similar to lists, \n",
    "#### but their immutability makes them different.\n"
   ]
  },
  {
   "cell_type": "code",
   "execution_count": 3,
   "metadata": {},
   "outputs": [
    {
     "name": "stdout",
     "output_type": "stream",
     "text": [
      "()\n",
      "<class 'tuple'>\n",
      "()\n",
      "<class 'tuple'>\n"
     ]
    }
   ],
   "source": [
    "## Creating a Tuple\n",
    "\n",
    "empty_tuple = ()\n",
    "\n",
    "print(empty_tuple)\n",
    "\n",
    "print(type(empty_tuple))\n",
    "\n",
    "emp_tuple = tuple()\n",
    "\n",
    "print(emp_tuple)\n",
    "\n",
    "print(type(emp_tuple))"
   ]
  },
  {
   "cell_type": "code",
   "execution_count": 7,
   "metadata": {},
   "outputs": [
    {
     "name": "stdout",
     "output_type": "stream",
     "text": [
      "(1, 2, 3, 4, 5, 6)\n",
      "(1, 2, 3, 4, 5)\n",
      "(1, 'Hello', 1.3, True, (1+4j))\n"
     ]
    }
   ],
   "source": [
    "tpl = tuple([1,2,3,4,5,6])\n",
    "\n",
    "print(tpl)\n",
    "\n",
    "tpl = (1,2,3,4,5)\n",
    "\n",
    "print(tpl)\n",
    "\n",
    "tpl = (1, 'Hello', 1.3, True, 1+4j)\n",
    "\n",
    "print(tpl)"
   ]
  },
  {
   "cell_type": "code",
   "execution_count": null,
   "metadata": {},
   "outputs": [
    {
     "name": "stdout",
     "output_type": "stream",
     "text": [
      "1\n",
      "(1+4j)\n",
      "(1, 'Hello', 1.3)\n",
      "((1+4j), True, 1.3, 'Hello', 1)\n",
      "(1, 1.3, (1+4j))\n"
     ]
    }
   ],
   "source": [
    "## Accessing Tuple Elements\n",
    "\n",
    "print(tpl[0])\n",
    "\n",
    "print(tpl[-1])\n",
    "\n",
    "print(tpl[:3])\n",
    "\n",
    "print(tpl[::-1])\n",
    "\n",
    "print(tpl[::2])"
   ]
  },
  {
   "cell_type": "code",
   "execution_count": 14,
   "metadata": {},
   "outputs": [
    {
     "name": "stdout",
     "output_type": "stream",
     "text": [
      "(1, 2, 3, 4, 5, 6, 1, 'Okay', 1.1, True)\n"
     ]
    }
   ],
   "source": [
    "## Tuple Operations\n",
    "\n",
    "numbers = (1,2,3,4,5,6)\n",
    "\n",
    "mixTuple = (1,'Okay', 1.1, True)\n",
    "\n",
    "concatTuple = numbers + mixTuple\n",
    "\n",
    "print(concatTuple)"
   ]
  },
  {
   "cell_type": "code",
   "execution_count": null,
   "metadata": {},
   "outputs": [
    {
     "name": "stdout",
     "output_type": "stream",
     "text": [
      "(1, 'Okay', 1.1, True, 1, 'Okay', 1.1, True, 1, 'Okay', 1.1, True)\n"
     ]
    },
    {
     "ename": "TypeError",
     "evalue": "unsupported operand type(s) for ** or pow(): 'tuple' and 'int'",
     "output_type": "error",
     "traceback": [
      "\u001b[0;31m---------------------------------------------------------------------------\u001b[0m",
      "\u001b[0;31mTypeError\u001b[0m                                 Traceback (most recent call last)",
      "Cell \u001b[0;32mIn[18], line 5\u001b[0m\n\u001b[1;32m      1\u001b[0m \u001b[38;5;28mprint\u001b[39m(mixTuple \u001b[38;5;241m*\u001b[39m \u001b[38;5;241m3\u001b[39m)\n\u001b[1;32m      3\u001b[0m \u001b[38;5;66;03m#print(mixTuple**3)\u001b[39;00m\n\u001b[0;32m----> 5\u001b[0m \u001b[38;5;28mprint\u001b[39m(\u001b[43mnumbers\u001b[49m\u001b[38;5;241;43m*\u001b[39;49m\u001b[38;5;241;43m*\u001b[39;49m\u001b[38;5;241;43m3\u001b[39;49m)\n",
      "\u001b[0;31mTypeError\u001b[0m: unsupported operand type(s) for ** or pow(): 'tuple' and 'int'"
     ]
    }
   ],
   "source": [
    "print(mixTuple * 3)\n",
    "\n",
    "print(mixTuple**3)\n",
    "\n",
    "print(numbers**3)"
   ]
  },
  {
   "cell_type": "code",
   "execution_count": 21,
   "metadata": {},
   "outputs": [
    {
     "name": "stdout",
     "output_type": "stream",
     "text": [
      "[10, 4, 2, 2, 5]\n"
     ]
    },
    {
     "ename": "TypeError",
     "evalue": "'tuple' object does not support item assignment",
     "output_type": "error",
     "traceback": [
      "\u001b[0;31m---------------------------------------------------------------------------\u001b[0m",
      "\u001b[0;31mTypeError\u001b[0m                                 Traceback (most recent call last)",
      "Cell \u001b[0;32mIn[21], line 9\u001b[0m\n\u001b[1;32m      6\u001b[0m \u001b[38;5;28mprint\u001b[39m(lst)\n\u001b[1;32m      8\u001b[0m \u001b[38;5;66;03m#### Incase of Tuple\u001b[39;00m\n\u001b[0;32m----> 9\u001b[0m \u001b[43mtpl\u001b[49m\u001b[43m[\u001b[49m\u001b[38;5;241;43m0\u001b[39;49m\u001b[43m]\u001b[49m \u001b[38;5;241m=\u001b[39m \u001b[38;5;241m11\u001b[39m\n",
      "\u001b[0;31mTypeError\u001b[0m: 'tuple' object does not support item assignment"
     ]
    }
   ],
   "source": [
    "## Immutable Nature of Tuples\n",
    "\n",
    "#### Incase of List\n",
    "lst = [1,4,2,2,5]\n",
    "lst[0] = 10\n",
    "print(lst)\n",
    "\n",
    "#### Incase of Tuple\n",
    "tpl[0] = 11"
   ]
  },
  {
   "cell_type": "code",
   "execution_count": null,
   "metadata": {},
   "outputs": [
    {
     "name": "stdout",
     "output_type": "stream",
     "text": [
      "(1, 'Hello', 1.3, True, (1+4j))\n"
     ]
    }
   ],
   "source": [
    "## Tuple Methods (count, index)\n",
    "\n",
    "print(tpl)\n",
    "\n",
    "tpl = (0, 'Hello', 1.3, True, (1+4j))"
   ]
  },
  {
   "cell_type": "code",
   "execution_count": null,
   "metadata": {},
   "outputs": [
    {
     "name": "stdout",
     "output_type": "stream",
     "text": [
      "1\n",
      "1\n"
     ]
    }
   ],
   "source": [
    "print(tpl.count(True)) # True is considered as 1, similarly 1 is considered as True/False - 0\n",
    "\n",
    "print(tpl.count(False))"
   ]
  },
  {
   "cell_type": "code",
   "execution_count": 34,
   "metadata": {},
   "outputs": [
    {
     "data": {
      "text/plain": [
       "3"
      ]
     },
     "execution_count": 34,
     "metadata": {},
     "output_type": "execute_result"
    }
   ],
   "source": [
    "tpl.index(True)"
   ]
  },
  {
   "cell_type": "code",
   "execution_count": 37,
   "metadata": {},
   "outputs": [
    {
     "name": "stdout",
     "output_type": "stream",
     "text": [
      "(1, 'Hello', 3.14)\n",
      "1\n",
      "Hello\n",
      "3.14\n",
      "(1, 3, 4, 5, 6, 7)\n",
      "1\n",
      "[3, 4, 5, 6]\n",
      "7\n"
     ]
    }
   ],
   "source": [
    "## Packing and unpacking of Tuple\n",
    "\n",
    "\n",
    "#### Packing: By default if elements separated by ',' it is considered as tuple when assigned to a single variable.\n",
    "pkTuple = 1, 'Hello', 3.14\n",
    "print (pkTuple)\n",
    "\n",
    "\n",
    "#### UnPacking: assigning the values to the variables\n",
    "a,b,c = pkTuple\n",
    "print(a)\n",
    "print(b)\n",
    "print(c)\n",
    "\n",
    "#### UnPacking with '*'\n",
    "tpl = 1,3,4,5,6,7\n",
    "\n",
    "print(tpl)\n",
    "\n",
    "a, *b, c = tpl\n",
    "\n",
    "print(a)\n",
    "print(b)\n",
    "print(c)\n",
    "\n"
   ]
  },
  {
   "cell_type": "code",
   "execution_count": 39,
   "metadata": {},
   "outputs": [
    {
     "name": "stdout",
     "output_type": "stream",
     "text": [
      "3\n"
     ]
    }
   ],
   "source": [
    "## Nested Tuple\n",
    "\n",
    "#### List\n",
    "\n",
    "lst = [[1,2,3],[3,4,5],[6,7,10]]\n",
    "\n",
    "#### Tuple\n",
    "\n",
    "tpl = ((1,2,3), 2, 4, 6)\n",
    "\n",
    "print(tpl[0][2])"
   ]
  },
  {
   "cell_type": "code",
   "execution_count": null,
   "metadata": {},
   "outputs": [
    {
     "name": "stdout",
     "output_type": "stream",
     "text": [
      "True\n",
      "False\n",
      "False\n",
      "[1, 2, 4, 5]\n",
      "[5, 4, 2, 1]\n"
     ]
    }
   ],
   "source": [
    "tpl = (1,4,5,2)\n",
    "\n",
    "print(2 in tpl)\n",
    "print(8 in tpl)\n",
    "print('4' in tpl)\n",
    "\n",
    "#### Sorting in Tuple\n",
    "print(sorted(tpl))\n",
    "\n",
    "print(sorted(tpl, reverse=True)) # Cannot be stored"
   ]
  },
  {
   "cell_type": "code",
   "execution_count": null,
   "metadata": {},
   "outputs": [
    {
     "data": {
      "text/plain": [
       "[5, 4, 3, 2, 1]"
      ]
     },
     "execution_count": 48,
     "metadata": {},
     "output_type": "execute_result"
    }
   ],
   "source": [
    "# Works in List as well\n",
    "lst = [1,4,5,2,3]\n",
    "\n",
    "sorted(lst)\n",
    "\n",
    "sorted(lst, reverse = True)"
   ]
  },
  {
   "cell_type": "code",
   "execution_count": 50,
   "metadata": {},
   "outputs": [
    {
     "data": {
      "text/plain": [
       "[1, 4, 5, 3]"
      ]
     },
     "execution_count": 50,
     "metadata": {},
     "output_type": "execute_result"
    }
   ],
   "source": [
    "lst.pop(3)\n",
    "lst"
   ]
  },
  {
   "cell_type": "code",
   "execution_count": 49,
   "metadata": {},
   "outputs": [
    {
     "ename": "NameError",
     "evalue": "name 'tpl' is not defined",
     "output_type": "error",
     "traceback": [
      "\u001b[0;31m---------------------------------------------------------------------------\u001b[0m",
      "\u001b[0;31mNameError\u001b[0m                                 Traceback (most recent call last)",
      "Cell \u001b[0;32mIn[49], line 2\u001b[0m\n\u001b[1;32m      1\u001b[0m \u001b[38;5;28;01mdel\u001b[39;00m tpl\n\u001b[0;32m----> 2\u001b[0m \u001b[43mtpl\u001b[49m\n",
      "\u001b[0;31mNameError\u001b[0m: name 'tpl' is not defined"
     ]
    }
   ],
   "source": [
    "del tpl\n",
    "tpl"
   ]
  },
  {
   "cell_type": "code",
   "execution_count": null,
   "metadata": {},
   "outputs": [],
   "source": []
  }
 ],
 "metadata": {
  "kernelspec": {
   "display_name": "Python 3",
   "language": "python",
   "name": "python3"
  },
  "language_info": {
   "codemirror_mode": {
    "name": "ipython",
    "version": 3
   },
   "file_extension": ".py",
   "mimetype": "text/x-python",
   "name": "python",
   "nbconvert_exporter": "python",
   "pygments_lexer": "ipython3",
   "version": "3.13.0"
  }
 },
 "nbformat": 4,
 "nbformat_minor": 2
}
