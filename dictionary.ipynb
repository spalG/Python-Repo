{
 "cells": [
  {
   "cell_type": "markdown",
   "metadata": {},
   "source": [
    "# Dictionaries\n",
    "\n",
    "1. Introduction to Dictionaries\n",
    "2. Creating Dictionaries\n",
    "3. Accessing Dictionary Elements\n",
    "4. Modifying Dictionary Elements\n",
    "5. Dictionary Methods\n",
    "6. Iterating Over Dictionaries\n",
    "7. Nested Dictionaries\n",
    "8. Dictionary Comprehensions\n",
    "9. Practical Examples and Common Errors"
   ]
  },
  {
   "cell_type": "code",
   "execution_count": 1,
   "metadata": {},
   "outputs": [],
   "source": [
    "## Introduction to Dictionaries\n",
    "\n",
    "#### Dictionaries are unordered collections of items. They store data in key-value pairs. keys must be unqiue and immutable\n",
    "# (eg., string, numbers, or tuples), while values can be of any type"
   ]
  },
  {
   "cell_type": "code",
   "execution_count": 2,
   "metadata": {},
   "outputs": [
    {
     "name": "stdout",
     "output_type": "stream",
     "text": [
      "{}\n",
      "<class 'dict'>\n",
      "{}\n",
      "<class 'dict'>\n",
      "{'name': 'Sagar', 'age': 20, 'grade': 4}\n"
     ]
    }
   ],
   "source": [
    "## Creating Diictionaries\n",
    "empty_dict = {}\n",
    "print(empty_dict)\n",
    "print(type(empty_dict))\n",
    "\n",
    "\n",
    "x = dict()\n",
    "print(x)\n",
    "print(type(x))\n",
    "\n",
    "student = {\"name\":\"Sagar\", \"age\":20, \"grade\":4}\n",
    "print(student)"
   ]
  },
  {
   "cell_type": "code",
   "execution_count": 3,
   "metadata": {},
   "outputs": [
    {
     "name": "stdout",
     "output_type": "stream",
     "text": [
      "{'name': 'Sagar', 'age': 20, 'grade': 4}\n"
     ]
    }
   ],
   "source": [
    "# Error\n",
    "student = {\"name\":\"Sagar\", \"age\":20, \"grade\":4}\n",
    "print(student) # No Error, but printed something which is different, The value get replaced with the most recent value for the key "
   ]
  },
  {
   "cell_type": "code",
   "execution_count": 4,
   "metadata": {},
   "outputs": [
    {
     "data": {
      "text/plain": [
       "{'name': 'Sagar', 'age': 20, 'grade': 4}"
      ]
     },
     "execution_count": 4,
     "metadata": {},
     "output_type": "execute_result"
    }
   ],
   "source": [
    "#### Accessing dictionary elements\n",
    "\n",
    "student = {\"name\":\"Sagar\", \"age\":20, \"grade\":4}\n",
    "student"
   ]
  },
  {
   "cell_type": "code",
   "execution_count": 5,
   "metadata": {},
   "outputs": [
    {
     "name": "stdout",
     "output_type": "stream",
     "text": [
      "Sagar\n",
      "4\n",
      "20\n"
     ]
    }
   ],
   "source": [
    "print(student[\"name\"])\n",
    "print(student[\"grade\"])\n",
    "print(student[\"age\"])"
   ]
  },
  {
   "cell_type": "code",
   "execution_count": 6,
   "metadata": {},
   "outputs": [
    {
     "name": "stdout",
     "output_type": "stream",
     "text": [
      "Sagar\n",
      "4\n",
      "20\n",
      "None\n"
     ]
    }
   ],
   "source": [
    "#get()\n",
    "print(student.get(\"name\"))\n",
    "print(student.get(\"grade\"))\n",
    "print(student.get(\"age\"))\n",
    "print(student.get(\"lastName\")) #None"
   ]
  },
  {
   "cell_type": "code",
   "execution_count": 7,
   "metadata": {},
   "outputs": [
    {
     "name": "stdout",
     "output_type": "stream",
     "text": [
      "Not Applicable\n"
     ]
    }
   ],
   "source": [
    "# if none then default value\n",
    "print(student.get(\"lastName\", \"Not Applicable\"))"
   ]
  },
  {
   "cell_type": "code",
   "execution_count": 8,
   "metadata": {},
   "outputs": [
    {
     "name": "stdout",
     "output_type": "stream",
     "text": [
      "{'name': 'Sagar', 'age': 20, 'grade': 4}\n"
     ]
    }
   ],
   "source": [
    "#### Modifying Dictionary Elements\n",
    "## Dictionary are mutable, so you can add, update or delete elements\n",
    "print(student)"
   ]
  },
  {
   "cell_type": "code",
   "execution_count": null,
   "metadata": {},
   "outputs": [
    {
     "name": "stdout",
     "output_type": "stream",
     "text": [
      "{'name': 'Sagar', 'age': 26, 'grade': 4}\n",
      "{'name': 'Sagar', 'age': 26, 'grade': 4, 'address': 'India'}\n"
     ]
    }
   ],
   "source": [
    "student[\"age\"] = 26\n",
    "print(student)\n",
    "student[\"address\"] = \"India\" ##Added a new key and value\n",
    "print(student)"
   ]
  },
  {
   "cell_type": "code",
   "execution_count": null,
   "metadata": {},
   "outputs": [
    {
     "name": "stdout",
     "output_type": "stream",
     "text": [
      "{'name': 'Sagar', 'age': 26, 'address': 'India'}\n"
     ]
    }
   ],
   "source": [
    "del student[\"grade\"] ##Delete a dictionary value\n",
    "\n",
    "print(student)"
   ]
  },
  {
   "cell_type": "code",
   "execution_count": 13,
   "metadata": {},
   "outputs": [
    {
     "name": "stdout",
     "output_type": "stream",
     "text": [
      "dict_keys(['name', 'age', 'address'])\n",
      "dict_values(['Sagar', 26, 'India'])\n",
      "dict_items([('name', 'Sagar'), ('age', 26), ('address', 'India')])\n"
     ]
    }
   ],
   "source": [
    "#### Dictionary Methods\n",
    "\n",
    "keys = student.keys()\n",
    "print(keys)\n",
    "\n",
    "values = student.values()\n",
    "print(values)\n",
    "\n",
    "items = student.items()\n",
    "print(items)"
   ]
  },
  {
   "cell_type": "code",
   "execution_count": 16,
   "metadata": {},
   "outputs": [
    {
     "name": "stdout",
     "output_type": "stream",
     "text": [
      "4418833216\n",
      "4418833216\n",
      "{'name': 'Yash', 'age': 26, 'address': 'India'}\n",
      "{'name': 'Yash', 'age': 26, 'address': 'India'}\n"
     ]
    }
   ],
   "source": [
    "#### Shallow copy\n",
    "student_copy = student\n",
    "print(id(student))\n",
    "print(id(student_copy))\n",
    "\n",
    "student_copy[\"name\"] = \"Yash\"\n",
    "\n",
    "print(student)\n",
    "print(student_copy)"
   ]
  },
  {
   "cell_type": "code",
   "execution_count": 18,
   "metadata": {},
   "outputs": [
    {
     "name": "stdout",
     "output_type": "stream",
     "text": [
      "4418833216\n",
      "4419357952\n",
      "{'name': 'Yash', 'age': 26, 'address': 'India'}\n",
      "{'name': 'Sagar', 'age': 26, 'address': 'India'}\n"
     ]
    }
   ],
   "source": [
    "student_copy = student.copy()\n",
    "\n",
    "print(id(student))\n",
    "print(id(student_copy))\n",
    "\n",
    "student_copy[\"name\"] = \"Sagar\"\n",
    "\n",
    "print(student)\n",
    "print(student_copy)\n"
   ]
  },
  {
   "cell_type": "code",
   "execution_count": 19,
   "metadata": {},
   "outputs": [
    {
     "name": "stdout",
     "output_type": "stream",
     "text": [
      "name\n",
      "age\n",
      "address\n"
     ]
    }
   ],
   "source": [
    "#### Iterating Over Dictionaries\n",
    "## You can use loops to iterate over dictionaries, keys, values or items\n",
    "\n",
    "for key in student.keys():\n",
    "    print(key)"
   ]
  },
  {
   "cell_type": "code",
   "execution_count": 20,
   "metadata": {},
   "outputs": [
    {
     "name": "stdout",
     "output_type": "stream",
     "text": [
      "Yash\n",
      "26\n",
      "India\n"
     ]
    }
   ],
   "source": [
    "## iterate over values\n",
    "\n",
    "for value in student.values():\n",
    "    print(value)"
   ]
  },
  {
   "cell_type": "code",
   "execution_count": 22,
   "metadata": {},
   "outputs": [
    {
     "name": "stdout",
     "output_type": "stream",
     "text": [
      "name :  Yash\n",
      "age :  26\n",
      "address :  India\n"
     ]
    },
    {
     "ename": "ValueError",
     "evalue": "too many values to unpack (expected 2)",
     "output_type": "error",
     "traceback": [
      "\u001b[0;31m---------------------------------------------------------------------------\u001b[0m",
      "\u001b[0;31mValueError\u001b[0m                                Traceback (most recent call last)",
      "Cell \u001b[0;32mIn[22], line 6\u001b[0m\n\u001b[1;32m      3\u001b[0m \u001b[38;5;28;01mfor\u001b[39;00m key, value \u001b[38;5;129;01min\u001b[39;00m student\u001b[38;5;241m.\u001b[39mitems():\n\u001b[1;32m      4\u001b[0m     \u001b[38;5;28mprint\u001b[39m(key, \u001b[38;5;124m\"\u001b[39m\u001b[38;5;124m: \u001b[39m\u001b[38;5;124m\"\u001b[39m, value)\n\u001b[0;32m----> 6\u001b[0m \u001b[38;5;28;01mfor\u001b[39;00m key, value \u001b[38;5;129;01min\u001b[39;00m student:\n\u001b[1;32m      7\u001b[0m     \u001b[38;5;28mprint\u001b[39m(key, \u001b[38;5;124m\"\u001b[39m\u001b[38;5;124m: \u001b[39m\u001b[38;5;124m\"\u001b[39m, value) \n",
      "\u001b[0;31mValueError\u001b[0m: too many values to unpack (expected 2)"
     ]
    }
   ],
   "source": [
    "## iterate over key, value pair\n",
    "\n",
    "for key, value in student.items():\n",
    "    print(key, \": \", value)\n",
    "\n",
    "for key, value in student:\n",
    "    print(key, \": \", value) "
   ]
  },
  {
   "cell_type": "code",
   "execution_count": 23,
   "metadata": {},
   "outputs": [
    {
     "name": "stdout",
     "output_type": "stream",
     "text": [
      "{'student1': {'name': 'Sagar', 'age': 20}, 'student2': {'name': 'Yash', 'age': 22}, 'student3': {'name': 'MrUnordinary', 'age': 26}}\n"
     ]
    }
   ],
   "source": [
    "## Nested Dictionaries\n",
    "\n",
    "students = {\n",
    "    \"student1\": {\"name\":\"Sagar\", \"age\":20},\n",
    "    \"student2\": {\"name\":\"Yash\", \"age\":22},\n",
    "    \"student3\": {\"name\":\"MrUnordinary\", \"age\":26},\n",
    "}\n",
    "\n",
    "print(students)"
   ]
  },
  {
   "cell_type": "code",
   "execution_count": 24,
   "metadata": {},
   "outputs": [
    {
     "data": {
      "text/plain": [
       "22"
      ]
     },
     "execution_count": 24,
     "metadata": {},
     "output_type": "execute_result"
    }
   ],
   "source": [
    "## Access Nested Dictionary elements\n",
    "\n",
    "students[\"student2\"][\"age\"]"
   ]
  },
  {
   "cell_type": "code",
   "execution_count": 25,
   "metadata": {},
   "outputs": [
    {
     "data": {
      "text/plain": [
       "22"
      ]
     },
     "execution_count": 25,
     "metadata": {},
     "output_type": "execute_result"
    }
   ],
   "source": [
    "students.get('student2').get('age')"
   ]
  },
  {
   "cell_type": "code",
   "execution_count": 27,
   "metadata": {},
   "outputs": [
    {
     "name": "stdout",
     "output_type": "stream",
     "text": [
      "{'student1': {'name': 'Sagar', 'age': 20}, 'student2': {'name': 'Yash', 'age': 31}, 'student3': {'name': 'MrUnordinary', 'age': 26}}\n"
     ]
    }
   ],
   "source": [
    "students[\"student2\"][\"age\"] = 31\n",
    "\n",
    "print(students)"
   ]
  },
  {
   "cell_type": "code",
   "execution_count": 29,
   "metadata": {},
   "outputs": [
    {
     "name": "stdout",
     "output_type": "stream",
     "text": [
      "student1 :  {'name': 'Sagar', 'age': 20}\n",
      "name :  Sagar\n",
      "age :  20\n",
      "student2 :  {'name': 'Yash', 'age': 31}\n",
      "name :  Yash\n",
      "age :  31\n",
      "student3 :  {'name': 'MrUnordinary', 'age': 26}\n",
      "name :  MrUnordinary\n",
      "age :  26\n"
     ]
    }
   ],
   "source": [
    "## Iterating over Nested Dictionary\n",
    "\n",
    "for student_id, student_info in students.items():\n",
    "    print(student_id, \": \", student_info)\n",
    "    for key, value in student_info.items():\n",
    "        print(key, \": \", value)"
   ]
  },
  {
   "cell_type": "code",
   "execution_count": 30,
   "metadata": {},
   "outputs": [
    {
     "name": "stdout",
     "output_type": "stream",
     "text": [
      "{0: 0, 1: 1, 2: 4, 3: 9, 4: 16}\n"
     ]
    }
   ],
   "source": [
    "#### Dictionary Comphrehension\n",
    "\n",
    "squares = {x: x**2 for x in range(5)}\n",
    "print(squares)"
   ]
  },
  {
   "cell_type": "code",
   "execution_count": 33,
   "metadata": {},
   "outputs": [
    {
     "name": "stdout",
     "output_type": "stream",
     "text": [
      "{0: 0, 2: 4, 4: 16, 6: 36, 8: 64}\n"
     ]
    }
   ],
   "source": [
    "evens = {x:x**2 for x in range(10) if x%2==0}\n",
    "print(evens)"
   ]
  },
  {
   "cell_type": "code",
   "execution_count": 34,
   "metadata": {},
   "outputs": [
    {
     "name": "stdout",
     "output_type": "stream",
     "text": [
      "{1: 1, 2: 2, 3: 3, 4: 3}\n"
     ]
    }
   ],
   "source": [
    "numbers = [1,2,2,3,3,3,4,4,4]\n",
    "\n",
    "frequency = {x: numbers.count(x) for x in numbers}\n",
    "\n",
    "print(frequency)"
   ]
  },
  {
   "cell_type": "code",
   "execution_count": 35,
   "metadata": {},
   "outputs": [
    {
     "name": "stdout",
     "output_type": "stream",
     "text": [
      "{'a': 1, 'b': 3, 'c': 4}\n"
     ]
    }
   ],
   "source": [
    "### Merge a Dictionary\n",
    "\n",
    "dict1 = {\"a\":1, \"b\":2}\n",
    "dict2 = {\"b\":3, \"c\":4}\n",
    "\n",
    "dict3 = {**dict1, **dict2}\n",
    "\n",
    "print(dict3)"
   ]
  }
 ],
 "metadata": {
  "kernelspec": {
   "display_name": "Python 3",
   "language": "python",
   "name": "python3"
  },
  "language_info": {
   "codemirror_mode": {
    "name": "ipython",
    "version": 3
   },
   "file_extension": ".py",
   "mimetype": "text/x-python",
   "name": "python",
   "nbconvert_exporter": "python",
   "pygments_lexer": "ipython3",
   "version": "3.13.0"
  }
 },
 "nbformat": 4,
 "nbformat_minor": 2
}
