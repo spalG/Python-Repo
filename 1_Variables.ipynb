{
 "cells": [
  {
   "cell_type": "markdown",
   "metadata": {},
   "source": [
    "## Python Variables"
   ]
  },
  {
   "cell_type": "markdown",
   "metadata": {},
   "source": [
    "Variables are containers that store data values and can be referenced and manipulated within a program. They are created when a value is first assigned to them, and there is no command for declaring a variable in Python"
   ]
  },
  {
   "cell_type": "code",
   "execution_count": 2,
   "metadata": {},
   "outputs": [
    {
     "name": "stdout",
     "output_type": "stream",
     "text": [
      "100\n"
     ]
    }
   ],
   "source": [
    "a = 100\n",
    "print(a)"
   ]
  },
  {
   "cell_type": "markdown",
   "metadata": {},
   "source": [
    "#### Declaring and Assigning of Variables and there Types"
   ]
  },
  {
   "cell_type": "code",
   "execution_count": 4,
   "metadata": {},
   "outputs": [],
   "source": [
    "age = 26 #INTEGER\n",
    "height = 5.10 #FLOAT\n",
    "name = \"Sagar\" #STRING\n",
    "it_professional = True #BOOLEAN\n",
    "c = 3 + 4j #COMPLEX\n",
    "temp = None #NONE"
   ]
  },
  {
   "cell_type": "markdown",
   "metadata": {},
   "source": [
    "#### Printing Variables"
   ]
  },
  {
   "cell_type": "code",
   "execution_count": 5,
   "metadata": {},
   "outputs": [
    {
     "name": "stdout",
     "output_type": "stream",
     "text": [
      "age:  26 type:  <class 'int'>\n",
      "height:  5.1  type:  <class 'float'>\n",
      "name:  Sagar  type:  <class 'str'>\n",
      "it_professional:  True  type:  <class 'bool'>\n",
      "complex:  (3+4j)  type:  <class 'complex'>\n",
      "temp:  None  type:  <class 'NoneType'>\n"
     ]
    }
   ],
   "source": [
    "print(\"age: \", age, \"type: \", type(age))\n",
    "print(\"height: \", height, \" type: \", type(height))\n",
    "print(\"name: \", name, \" type: \", type(name))\n",
    "print(\"it_professional: \", it_professional, \" type: \", type(it_professional))\n",
    "print(\"complex: \", c, \" type: \", type(c))\n",
    "print(\"temp: \", temp, \" type: \", type(temp))"
   ]
  },
  {
   "cell_type": "markdown",
   "metadata": {},
   "source": [
    "#### Naming Conventions\n",
    "1. Variable names should be descriptive\n",
    "2. They must start with a letter or an '_' and contains letters, numbers and underscores\n",
    "3. Variables are case sensitive"
   ]
  },
  {
   "cell_type": "code",
   "execution_count": 7,
   "metadata": {},
   "outputs": [
    {
     "name": "stdout",
     "output_type": "stream",
     "text": [
      "Sagar Pal\n",
      "Sagar Yash Rahul\n",
      "New Name\n"
     ]
    }
   ],
   "source": [
    "_fName = \"Sagar\"\n",
    "_lName = \"Pal\"\n",
    "\n",
    "print(_fName + \" \" + _lName)\n",
    "\n",
    "fName1 = \"Sagar\"\n",
    "fName2 = \"Yash\"\n",
    "fName3 = \"Rahul\"\n",
    "\n",
    "print(fName1, fName2, fName3)\n",
    "\n",
    "fName3 = \"New Name\"\n",
    "\n",
    "print(fName3)"
   ]
  },
  {
   "cell_type": "code",
   "execution_count": null,
   "metadata": {},
   "outputs": [],
   "source": [
    "## Invalid Variable Names\n",
    "\n",
    "#1fName = \"Sagar\"\n",
    "\n",
    "#Error Type: SyntaxError"
   ]
  },
  {
   "cell_type": "markdown",
   "metadata": {},
   "source": [
    "#### Convert One Data Type to Another (TypeConversion)"
   ]
  },
  {
   "cell_type": "code",
   "execution_count": 8,
   "metadata": {},
   "outputs": [
    {
     "name": "stdout",
     "output_type": "stream",
     "text": [
      "<class 'int'>\n",
      "<class 'str'>\n"
     ]
    }
   ],
   "source": [
    "age = 26\n",
    "\n",
    "print(type(age))\n",
    "\n",
    "age_str = str(age)\n",
    "\n",
    "print(type(age_str))"
   ]
  },
  {
   "cell_type": "code",
   "execution_count": 11,
   "metadata": {},
   "outputs": [
    {
     "name": "stdout",
     "output_type": "stream",
     "text": [
      "26 <class 'str'>\n",
      "26 <class 'int'>\n",
      "26.0 <class 'float'>\n",
      "5.1 <class 'float'>\n",
      "5 <class 'int'>\n"
     ]
    }
   ],
   "source": [
    "### What all different Type of String Conversion\n",
    "\n",
    "#str() to int\n",
    "#str() to float\n",
    "age = '26'\n",
    "print(age, type(age))\n",
    "\n",
    "age_int = int(age)\n",
    "print(age_int, type(age_int))\n",
    "\n",
    "age_float = float(age)\n",
    "print(age_float, type(age_float))\n",
    "\n",
    "#float() to int\n",
    "height = 5.10\n",
    "print(height, type(height))\n",
    "print(int(height), type(int(height)))\n",
    "\n",
    "#Please Try out all possible Conevrsions to familiarize yourself with the concept"
   ]
  },
  {
   "cell_type": "markdown",
   "metadata": {},
   "source": [
    "#### Input into a Variable"
   ]
  },
  {
   "cell_type": "code",
   "execution_count": 15,
   "metadata": {},
   "outputs": [
    {
     "name": "stdout",
     "output_type": "stream",
     "text": [
      "26 <class 'str'>\n",
      "26 <class 'int'>\n",
      "26.0 <class 'float'>\n"
     ]
    }
   ],
   "source": [
    "age = input(\"Enter your age: \")\n",
    "print(age, type(age))\n",
    "\n",
    "age_int = int(age)\n",
    "\n",
    "#or\n",
    "\n",
    "age = int(input(\"Enter your age: \"))\n",
    "print(age, type(age))\n",
    "\n",
    "age = float(input(\"Enter your age: \"))\n",
    "print(age, type(age))"
   ]
  },
  {
   "cell_type": "markdown",
   "metadata": {},
   "source": [
    "## Changing Type of Exsisting Variable"
   ]
  },
  {
   "cell_type": "code",
   "execution_count": 17,
   "metadata": {},
   "outputs": [
    {
     "name": "stdout",
     "output_type": "stream",
     "text": [
      "10 <class 'int'>\n",
      "New Type <class 'str'>\n",
      "None <class 'NoneType'>\n"
     ]
    }
   ],
   "source": [
    "a = 10\n",
    "\n",
    "print(a, type(a))\n",
    "\n",
    "a = 'New Type'\n",
    "\n",
    "print(a, type(a))\n",
    "\n",
    "a = None\n",
    "\n",
    "print(a, type(a))"
   ]
  },
  {
   "cell_type": "markdown",
   "metadata": {},
   "source": [
    "## Complex Type"
   ]
  },
  {
   "cell_type": "code",
   "execution_count": 23,
   "metadata": {},
   "outputs": [
    {
     "name": "stdout",
     "output_type": "stream",
     "text": [
      "(1+2j) <class 'complex'>\n",
      "1.0 <class 'float'>\n",
      "2.0 <class 'float'>\n",
      "(1-2j)\n",
      "(10+0j) <class 'complex'>\n",
      "4j <class 'complex'>\n"
     ]
    }
   ],
   "source": [
    "c = 1 + 2j\n",
    "print(c, type(c))\n",
    "\n",
    "#Real and Imaginary Part of Complex Number\n",
    "#Complex = Real + Imaginary\n",
    "#By_default Type Float\n",
    "\n",
    "print(c.real, type(c.real))\n",
    "print(c.imag, type(c.imag))\n",
    "\n",
    "#Complex Number help perform Mathematical Operations\n",
    "#Conjugate of Complex Number\n",
    "\n",
    "print(c.conjugate())\n",
    "\n",
    "#Type cast of int to complex\n",
    "\n",
    "a = 10\n",
    "c = complex(a)\n",
    "\n",
    "print(c, type(c))\n",
    "\n",
    "a = 4j\n",
    "print(a, type(a))\n",
    "\n",
    "#Error Type: TypeError\n",
    "#a = 4i #j by default represents imaginary part of complex number, No other variable can be used to represent imaginary part"
   ]
  },
  {
   "cell_type": "markdown",
   "metadata": {},
   "source": [
    "## A Not Much Used Data Type: Bytes"
   ]
  },
  {
   "cell_type": "code",
   "execution_count": 27,
   "metadata": {},
   "outputs": [
    {
     "name": "stdout",
     "output_type": "stream",
     "text": [
      "b'5' <class 'bytes'>\n",
      "b'\\x00\\x00\\x00\\x00\\x00' <class 'bytes'>\n",
      "<memory at 0x10ab1f400> <class 'memoryview'>\n"
     ]
    }
   ],
   "source": [
    "a = b'5'\n",
    "print(a, type(a))\n",
    "\n",
    "#Difference between String and Bytes\n",
    "a = bytes(5)\n",
    "print(a, type(a))\n",
    "\n",
    "#Error Type: TypeError\n",
    "#a = b5\n",
    "#print(a, type(a))\n",
    "\n",
    "a = memoryview(bytes(5))\n",
    "print(a, type(a))"
   ]
  }
 ],
 "metadata": {
  "kernelspec": {
   "display_name": "base",
   "language": "python",
   "name": "python3"
  },
  "language_info": {
   "codemirror_mode": {
    "name": "ipython",
    "version": 3
   },
   "file_extension": ".py",
   "mimetype": "text/x-python",
   "name": "python",
   "nbconvert_exporter": "python",
   "pygments_lexer": "ipython3",
   "version": "3.12.7"
  }
 },
 "nbformat": 4,
 "nbformat_minor": 2
}
