{
 "cells": [
  {
   "cell_type": "markdown",
   "metadata": {},
   "source": [
    "# Sets\n",
    "\n",
    "1. Introduction on Sets\n",
    "2. Creating Sets\n",
    "3. Nature of Sets\n",
    "4. Sets Operations ('adding','removing')\n",
    "5. Set Membership test\n",
    "6. Mathematical Operations ('Union', 'Intersection', 'Difference', 'Symmteric Difference','SubSet', 'SuperSet')\n",
    "7. Practical Examples and Common Errors\n"
   ]
  },
  {
   "cell_type": "code",
   "execution_count": null,
   "metadata": {},
   "outputs": [],
   "source": [
    "## Introduction on Sets\n",
    "\n",
    "#### Sets are a built-in data type in Python used to store collections of unique items. \n",
    "# They are unordered, meaning that the elements do not follow a specific order and they do not allow duplicate elements. \n",
    "# Sets are useful for membership tests. eliminating duplicate enteries and performing mathematical set operations like union, intersection, difference, and symmetric difference."
   ]
  },
  {
   "cell_type": "code",
   "execution_count": 1,
   "metadata": {},
   "outputs": [
    {
     "name": "stdout",
     "output_type": "stream",
     "text": [
      "{1, 2, 3, 4, 5}\n",
      "<class 'set'>\n"
     ]
    }
   ],
   "source": [
    "## Creating Sets\n",
    "my_set = {1,2,3,4,5}\n",
    "\n",
    "print(my_set)\n",
    "\n",
    "print(type(my_set))"
   ]
  },
  {
   "cell_type": "code",
   "execution_count": 5,
   "metadata": {},
   "outputs": [
    {
     "name": "stdout",
     "output_type": "stream",
     "text": [
      "{}\n",
      "<class 'dict'>\n",
      "set()\n",
      "<class 'set'>\n"
     ]
    }
   ],
   "source": [
    "emptySet = {}\n",
    "\n",
    "print(emptySet)\n",
    "print(type(emptySet)) # dictionary\n",
    "\n",
    "empSet = set()\n",
    "\n",
    "print(empSet)\n",
    "print(type(empSet))\n",
    "\n"
   ]
  },
  {
   "cell_type": "code",
   "execution_count": 6,
   "metadata": {},
   "outputs": [
    {
     "name": "stdout",
     "output_type": "stream",
     "text": [
      "{1, 5, 6, 7}\n"
     ]
    }
   ],
   "source": [
    "## Nature of Sets (No Duplicates)\n",
    "\n",
    "emptySet = set([1,5,6,7,7])\n",
    "\n",
    "print(emptySet) ## Removed Duplicate"
   ]
  },
  {
   "cell_type": "code",
   "execution_count": 36,
   "metadata": {},
   "outputs": [
    {
     "name": "stdout",
     "output_type": "stream",
     "text": [
      "{1, 4, 5, 7, 8}\n",
      "{1, 4, 5, 7, 8, 9}\n",
      "{1, 4, 5, 7, 8, 9}\n",
      "{1, 4, 7, 8, 9}\n",
      "{1, 4, 7, 8, 9}\n",
      "{1, 4, 7, 8}\n",
      "{4, 7, 8}\n",
      "set()\n"
     ]
    }
   ],
   "source": [
    "## Sets Operations\n",
    "\n",
    "#### Adding and removing elements\n",
    "\n",
    "#### Adding\n",
    "\n",
    "mySet = set({1,4,5,7,8})\n",
    "print(mySet)\n",
    "\n",
    "mySet.add(9)\n",
    "print(mySet)\n",
    "\n",
    "mySet.add(7)\n",
    "print(mySet)\n",
    "\n",
    "#### Removing\n",
    "\n",
    "mySet.remove(5)\n",
    "print(mySet)\n",
    "\n",
    "#mySet.remove(5) #Error due to no 5 present. To overcome this use discard\n",
    "mySet.discard(5)\n",
    "print(mySet)\n",
    "\n",
    "mySet.discard(9)\n",
    "print(mySet)\n",
    "\n",
    "mySet.pop() # First in First Out\n",
    "print(mySet)\n",
    "\n",
    "# mySet.pop(3) # Error\n",
    "\n",
    "mySet.clear()\n",
    "print(mySet)"
   ]
  },
  {
   "cell_type": "code",
   "execution_count": 18,
   "metadata": {},
   "outputs": [
    {
     "name": "stdout",
     "output_type": "stream",
     "text": [
      "False\n",
      "True\n"
     ]
    }
   ],
   "source": [
    "## Set Membership test\n",
    "mySet = {1,2,3,4,5,6}\n",
    "\n",
    "print(7 in mySet)\n",
    "print(3 in mySet)"
   ]
  },
  {
   "cell_type": "code",
   "execution_count": null,
   "metadata": {},
   "outputs": [
    {
     "name": "stdout",
     "output_type": "stream",
     "text": [
      "{1, 2, 3, 4, 5, 6, 7, 8, 9}\n",
      "{4, 5, 6}\n",
      "{4, 5, 6}\n",
      "{1, 2, 3}\n",
      "{1, 2, 3}\n",
      "{1, 2, 3, 7, 8, 9}\n",
      "{1, 2, 3, 7, 8, 9}\n",
      "False\n",
      "False\n",
      "False\n",
      "True\n",
      "True\n"
     ]
    }
   ],
   "source": [
    "## Mathematical Operations\n",
    "set1 = {1,2,3,4,5,6}\n",
    "set2 = {4,5,6,7,8,9}\n",
    "\n",
    "#### Union\n",
    "newSet = set1.union(set2)\n",
    "print(newSet)\n",
    "\n",
    "#### Intersection\n",
    "newSet = set1.intersection(set2)\n",
    "print(newSet)\n",
    "\n",
    "set1.intersection_update(set2)\n",
    "print(set1) ## Updates set1 elements with intersection among the sets.\n",
    "\n",
    "#### Difference\n",
    "set1 = {1,2,3,4,5,6}\n",
    "set2 = {4,5,6,7,8,9}\n",
    "\n",
    "print(set1.difference(set2))\n",
    "\n",
    "set1.difference_update(set2)\n",
    "print(set1)\n",
    "\n",
    "#### Symmteric Difference\n",
    "set1 = {1,2,3,4,5,6}\n",
    "set2 = {4,5,6,7,8,9}\n",
    "\n",
    "print(set1.symmetric_difference(set2)) #Removes intersection difference\n",
    "\n",
    "set1.symmetric_difference_update(set2)\n",
    "print(set1)\n",
    "\n",
    "#### SubSet\n",
    "set1 = {1,2,3,4,5,6}\n",
    "set2 = {4,5,6,7,8,9}\n",
    "\n",
    "print(set1.issubset(set2))\n",
    "print(set2.issubset(set1))\n",
    "\n",
    "set1 = {1,2,3,4,5,6}\n",
    "set2 = {4,5,6}\n",
    "\n",
    "#print(set1.issubset(set2)) #False\n",
    "print(set2.issubset(set1))\n",
    "\n",
    "print(set1.issuperset(set2))\n",
    "# print(set2.issubset(set1)) #False"
   ]
  },
  {
   "cell_type": "code",
   "execution_count": 34,
   "metadata": {},
   "outputs": [
    {
     "name": "stdout",
     "output_type": "stream",
     "text": [
      "{'are', 'Python', 'about', 'we', 'sets', 'Practice', 'This', 'Session', 'is', 'discussing'}\n"
     ]
    }
   ],
   "source": [
    "#### Converting unique words to set\n",
    "\n",
    "text = 'This is Python Practice Session we are discussing about sets'\n",
    "\n",
    "words = text.split()\n",
    "\n",
    "unqWord = set(words)\n",
    "print(unqWord)"
   ]
  }
 ],
 "metadata": {
  "kernelspec": {
   "display_name": "Python 3",
   "language": "python",
   "name": "python3"
  },
  "language_info": {
   "codemirror_mode": {
    "name": "ipython",
    "version": 3
   },
   "file_extension": ".py",
   "mimetype": "text/x-python",
   "name": "python",
   "nbconvert_exporter": "python",
   "pygments_lexer": "ipython3",
   "version": "3.13.0"
  }
 },
 "nbformat": 4,
 "nbformat_minor": 2
}
